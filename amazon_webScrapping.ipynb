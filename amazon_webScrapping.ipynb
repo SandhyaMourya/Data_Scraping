{
 "cells": [
  {
   "cell_type": "code",
   "execution_count": 1,
   "metadata": {},
   "outputs": [],
   "source": [
    "import urllib.request as ul\n",
    "from bs4 import BeautifulSoup as soup\n",
    "import pandas as pd"
   ]
  },
  {
   "cell_type": "code",
   "execution_count": 2,
   "metadata": {},
   "outputs": [],
   "source": [
    "url=\"https://www.amazon.in/s?i=electronics&bbn=1805560031&rh=n%3A976419031%2Cn%3A%21976420031%2Cn%3A1389401031%2Cn%3A1389432031%2Cn%3A1805560031%2Cp_6%3AA14CZOWI0VEHLG%7CA1P3OPO356Q9ZB%7CA2HIN95H5BP4BL%2Cp_89%3AApple&ref=mega_elec_s23_1_2_1_6\"\n",
    "req=ul.Request(url,headers={'User-Agent': 'Mozilla/5.0'})\n",
    "client=ul.urlopen(req)\n",
    "htmldata=client.read()\n",
    "client.close()"
   ]
  },
  {
   "cell_type": "code",
   "execution_count": 3,
   "metadata": {},
   "outputs": [],
   "source": [
    "pagesoup=soup(htmldata,\"html.parser\")\n",
    "itemlocator=pagesoup.findAll('div',{\"class\":\"sg-col-4-of-12 s-result-item s-asin sg-col-4-of-16 sg-col sg-col-4-of-20\"})"
   ]
  },
  {
   "cell_type": "code",
   "execution_count": 4,
   "metadata": {},
   "outputs": [
    {
     "data": {
      "text/plain": [
       "61"
      ]
     },
     "execution_count": 4,
     "metadata": {},
     "output_type": "execute_result"
    }
   ],
   "source": [
    "filename=\"Listings.csv\"\n",
    "f=open(filename,\"w\",encoding=\"utf-8\")\n",
    "headers=\"Model Name, Rating, Offer Price, Actual Price,No_of_reviews \\n\"\n",
    "f.write(headers)"
   ]
  },
  {
   "cell_type": "code",
   "execution_count": 5,
   "metadata": {
    "scrolled": true
   },
   "outputs": [
    {
     "name": "stdout",
     "output_type": "stream",
     "text": [
      "Apple iPhone 11 (64GB) - White\n",
      "4.6 out of 5 stars\n",
      "35,654\n",
      "₹39,999\n",
      "₹49,900\n",
      "Apple iPhone 11 (64GB) - Black\n",
      "4.6 out of 5 stars\n",
      "35,654\n",
      "₹39,999\n",
      "₹49,900\n",
      "Apple iPhone 11 (128GB) - White\n",
      "4.6 out of 5 stars\n",
      "35,654\n",
      "₹44,999\n",
      "₹54,900\n",
      "Apple iPhone 11 (64GB) - Purple\n",
      "4.6 out of 5 stars\n",
      "35,654\n",
      "₹39,999\n",
      "₹49,900\n",
      "Apple iPhone 11 (64GB) - (Product) RED\n",
      "4.6 out of 5 stars\n",
      "35,654\n",
      "₹39,999\n",
      "₹49,900\n",
      "Apple iPhone 11 (128GB) - (Product) RED\n",
      "4.6 out of 5 stars\n",
      "35,654\n",
      "₹44,999\n",
      "₹54,900\n",
      "Apple iPhone 11 (64GB) - Yellow\n",
      "4.6 out of 5 stars\n",
      "35,654\n",
      "₹39,999\n",
      "₹54,900\n",
      "Apple iPhone 11 (128GB) - Yellow\n",
      "4.6 out of 5 stars\n",
      "35,654\n",
      "₹44,999\n",
      "₹54,900\n",
      "Apple iPhone XR (128GB) - Black\n",
      "4.5 out of 5 stars\n",
      "790\n",
      "₹37,999\n",
      "₹52,900\n",
      "Apple iPhone XR (128GB) - White\n",
      "4.5 out of 5 stars\n",
      "790\n",
      "₹37,999\n",
      "₹52,900\n",
      "New Apple iPhone 12 Pro (128GB) - Graphite\n",
      "4.6 out of 5 stars\n",
      "651\n",
      "₹99,900\n",
      "₹1,19,900\n",
      "New Apple iPhone 12 Pro Max (256GB) - Pacific Blue\n",
      "4.6 out of 5 stars\n",
      "1,152\n",
      "₹1,23,405\n",
      "₹1,39,900\n",
      "New Apple iPhone 12 Pro Max (128GB) - Gold\n",
      "4.6 out of 5 stars\n",
      "1,152\n",
      "₹1,19,900\n",
      "₹1,29,900\n",
      "Apple iPhone 7 (32GB) - Black\n",
      "4.2 out of 5 stars\n",
      "10,639\n",
      "₹29,900\n",
      "NA\n",
      "Apple iPhone 13 Mini (256GB) - Pink\n",
      "3.2 out of 5 stars\n",
      "29\n",
      "NA\n",
      "NA\n",
      "Apple iPhone 11 (256GB) - Purple\n",
      "4.6 out of 5 stars\n",
      "35,654\n",
      "₹64,999\n",
      "NA\n",
      "New Apple iPhone 12 Pro Max (256GB) - Pacific Blue with Apple AirPods Pro\n",
      "4.6 out of 5 stars\n",
      "1,152\n",
      "₹1,41,395\n",
      "₹1,64,800\n",
      "New Apple iPhone 12 Pro Max (256GB) - Gold\n",
      "4.6 out of 5 stars\n",
      "1,152\n",
      "₹1,29,900\n",
      "₹1,39,900\n",
      "New Apple iPhone 12 Pro (512GB) - Gold\n",
      "4.6 out of 5 stars\n",
      "651\n",
      "₹1,29,900\n",
      "₹1,49,900\n",
      "New Apple iPhone 12 Pro Max (256GB) - Gold with Apple AirPods Pro\n",
      "4.6 out of 5 stars\n",
      "1,152\n",
      "₹1,47,890\n",
      "₹1,64,800\n",
      "Apple iPhone XR (128GB) - Yellow\n",
      "4.5 out of 5 stars\n",
      "790\n",
      "₹37,999\n",
      "₹52,900\n",
      "New Apple iPhone 12 Pro Max (512GB) - Gold with Apple AirPods Pro\n",
      "4.6 out of 5 stars\n",
      "1,152\n",
      "₹1,67,890\n",
      "₹1,84,800\n",
      "Apple iPhone XR 64GB White (includes EarPods, power adapter)\n",
      "4.6 out of 5 stars\n",
      "16,274\n",
      "₹44,999\n",
      "₹76,900\n",
      "Apple iPhone XR 128GB Black (includes EarPods, power adapter)\n",
      "4.6 out of 5 stars\n",
      "16,274\n",
      "₹45,999\n",
      "₹57,800\n"
     ]
    }
   ],
   "source": [
    "for items in itemlocator:\n",
    "    ModelName=items.find(\"span\",{\"class\":\"a-size-base-plus a-color-base a-text-normal\"}).text\n",
    "    print(ModelName)\n",
    "    Rating=items.find(\"div\",{\"class\":\"a-row a-size-small\"})\n",
    "    review=Rating.span[\"aria-label\"]\n",
    "    print(review)\n",
    "    for R in Rating:\n",
    "        No_of_reviews=R.span.text\n",
    "    print(No_of_reviews)\n",
    "    offer_price=items.find(\"span\",{\"class\":\"a-offscreen\"})\n",
    "    if(offer_price==None):\n",
    "        offer_price=\"NA\"\n",
    "    else:\n",
    "        offer_price=offer_price.text\n",
    "    print(offer_price)\n",
    "    actual_price=items.find(\"span\",{\"class\":\"a-price a-text-price\"})\n",
    "    if(actual_price==None):\n",
    "        actual_price=\"NA\"\n",
    "    else:\n",
    "        actual_price=actual_price.span.text\n",
    "    print(actual_price)\n",
    "    f.write(ModelName.replace(\",\",\" \")+\",\"+review.replace(\",\",\" \")+\",\"+offer_price.replace(\",\",\" \")+\",\"+actual_price.replace(\",\",\" \")+\",\"+No_of_reviews.replace(\",\",\" \")+\"\\n\")\n",
    "\n",
    "f.close()\n",
    "            "
   ]
  },
  {
   "cell_type": "code",
   "execution_count": null,
   "metadata": {},
   "outputs": [],
   "source": []
  },
  {
   "cell_type": "code",
   "execution_count": null,
   "metadata": {},
   "outputs": [],
   "source": []
  }
 ],
 "metadata": {
  "kernelspec": {
   "display_name": "Python 3",
   "language": "python",
   "name": "python3"
  },
  "language_info": {
   "codemirror_mode": {
    "name": "ipython",
    "version": 3
   },
   "file_extension": ".py",
   "mimetype": "text/x-python",
   "name": "python",
   "nbconvert_exporter": "python",
   "pygments_lexer": "ipython3",
   "version": "3.8.3"
  }
 },
 "nbformat": 4,
 "nbformat_minor": 4
}
